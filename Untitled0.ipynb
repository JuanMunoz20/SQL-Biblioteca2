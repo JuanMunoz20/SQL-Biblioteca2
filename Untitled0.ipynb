{
  "nbformat": 4,
  "nbformat_minor": 0,
  "metadata": {
    "colab": {
      "provenance": [],
      "authorship_tag": "ABX9TyO8L6CTT1pqJ5QlGvRzYaVs",
      "include_colab_link": true
    },
    "kernelspec": {
      "name": "python3",
      "display_name": "Python 3"
    },
    "language_info": {
      "name": "python"
    }
  },
  "cells": [
    {
      "cell_type": "markdown",
      "metadata": {
        "id": "view-in-github",
        "colab_type": "text"
      },
      "source": [
        "<a href=\"https://colab.research.google.com/github/JuanMunoz20/SQL-Biblioteca2/blob/main/Untitled0.ipynb\" target=\"_parent\"><img src=\"https://colab.research.google.com/assets/colab-badge.svg\" alt=\"Open In Colab\"/></a>"
      ]
    },
    {
      "cell_type": "markdown",
      "source": [
        "1.Hervir agua en una tetera o recipiente adecuado.\n",
        "2.Colocar una bolsita de té en una taza.\n",
        "3.Verter el agua caliente sobre la bolsita de té.\n",
        "4.Dejar reposar el té durante unos minutos.\n",
        "5.Retirar la bolsita de té.\n",
        "6.Agregar azúcar o leche al gusto (opcional).\n",
        "7.¡Disfrutar del té!\n"
      ],
      "metadata": {
        "id": "mfCgPnOJiIAg"
      }
    },
    {
      "cell_type": "code",
      "source": [
        "\n",
        "  print(\"1. Hervir agua.\")\n",
        "  print(\"2. Colocar una bolsita de té en una taza.\")\n",
        "  print(\"3. Verter el agua caliente sobre la bolsita de té.\")\n",
        "  print(\"4. Dejar reposar el té durante unos minutos.\")\n",
        "  print(\"5. Retirar la bolsita de té.\")\n",
        "  print(\"6. Agregar azúcar o leche al gusto (opcional).\")\n",
        "  print(\"7. ¡Disfrutar del té!\")"
      ],
      "metadata": {
        "colab": {
          "base_uri": "https://localhost:8080/"
        },
        "id": "jF6e-_YcifTB",
        "outputId": "732087b7-ddda-4685-f788-f27d07cbc382"
      },
      "execution_count": 5,
      "outputs": [
        {
          "output_type": "stream",
          "name": "stdout",
          "text": [
            "1. Hervir agua.\n",
            "2. Colocar una bolsita de té en una taza.\n",
            "3. Verter el agua caliente sobre la bolsita de té.\n",
            "4. Dejar reposar el té durante unos minutos.\n",
            "5. Retirar la bolsita de té.\n",
            "6. Agregar azúcar o leche al gusto (opcional).\n",
            "7. ¡Disfrutar del té!\n"
          ]
        }
      ]
    },
    {
      "cell_type": "markdown",
      "source": [
        "1.Solicitar al usuario que ingrese las notas del estudiante.\n",
        "2.Almacenar las notas en variables.\n",
        "3.Sumar todas las notas.\n",
        "4.Dividir la suma de las notas entre la cantidad de notas.\n",
        "5.Mostrar el resultado del promedio."
      ],
      "metadata": {
        "id": "4rQAtK_Di8eU"
      }
    },
    {
      "cell_type": "code",
      "source": [
        "nota1 = float(input(\"Ingrese la primera nota: \"))\n",
        "nota2 = float(input(\"Ingrese la segunda nota: \"))\n",
        "nota3 = float(input(\"Ingrese la tercera nota: \"))\n",
        "\n",
        "promedio = (nota1 + nota2 + nota3) / 3\n",
        "\n",
        "print(\"El promedio de las notas es:\", promedio)"
      ],
      "metadata": {
        "colab": {
          "base_uri": "https://localhost:8080/"
        },
        "id": "yppN0mM_jGqL",
        "outputId": "476db93e-e52d-44bc-87fe-8d017d42e402"
      },
      "execution_count": 6,
      "outputs": [
        {
          "output_type": "stream",
          "name": "stdout",
          "text": [
            "Ingrese la primera nota: 3\n",
            "Ingrese la segunda nota: 4\n",
            "Ingrese la tercera nota: 4.5\n",
            "El promedio de las notas es: 3.8333333333333335\n"
          ]
        }
      ]
    },
    {
      "cell_type": "markdown",
      "source": [
        "1.Solicitar al usuario que ingrese un número.\n",
        "2.Dividir el número entre 2 y obtener el residuo.\n",
        "3.Si el residuo es 0, el número es par.\n",
        "4.Si el residuo es 1, el número es impar.\n",
        "5.Mostrar el resultado.\n",
        "\n"
      ],
      "metadata": {
        "id": "54tFkDGwjqUX"
      }
    },
    {
      "cell_type": "code",
      "source": [
        "numero = int(input(\"Ingrese un número: \"))\n",
        "\n",
        "if numero % 2 == 0:\n",
        "  print(\"El número es par.\")\n",
        "else:\n",
        "  print(\"El número es impar.\")"
      ],
      "metadata": {
        "colab": {
          "base_uri": "https://localhost:8080/"
        },
        "id": "1GjNuRuhj7aO",
        "outputId": "999d0f05-fb48-4f0d-c924-1102d1bcd270"
      },
      "execution_count": 10,
      "outputs": [
        {
          "output_type": "stream",
          "name": "stdout",
          "text": [
            "Ingrese un número: 6\n",
            "El número es par.\n"
          ]
        }
      ]
    },
    {
      "cell_type": "markdown",
      "source": [
        "1.Inicializar un bucle for que itere desde 1 hasta 5.\n",
        "2.Para cada número en el bucle, imprimir el número.\n",
        "3.Verificar si el número es par o impar utilizando el operador módulo (%).\n",
        "4.Imprimir un mensaje indicando si el número es par o impar."
      ],
      "metadata": {
        "id": "exw62RZnkSax"
      }
    },
    {
      "cell_type": "code",
      "source": [
        "for i in range(1, 6):\n",
        "  print(\"Número:\", i)\n",
        "  if i % 2 == 0:\n",
        "    print(\"El número es par.\")\n",
        "  else:\n",
        "    print(\"El número es impar.\")"
      ],
      "metadata": {
        "colab": {
          "base_uri": "https://localhost:8080/"
        },
        "id": "315Aqs3VkUiT",
        "outputId": "e859b2fa-23dd-4c6d-8c95-f7d3df6a82c3"
      },
      "execution_count": 11,
      "outputs": [
        {
          "output_type": "stream",
          "name": "stdout",
          "text": [
            "Número: 1\n",
            "El número es impar.\n",
            "Número: 2\n",
            "El número es par.\n",
            "Número: 3\n",
            "El número es impar.\n",
            "Número: 4\n",
            "El número es par.\n",
            "Número: 5\n",
            "El número es impar.\n"
          ]
        }
      ]
    },
    {
      "cell_type": "markdown",
      "source": [
        "1.Crear variable temperatura en grados celsius.\n",
        "2.Le decimos al usuario el objetivo del programa.\n",
        "3.Solicitar al usuario los grados en celsius.\n",
        "4.Validación de la información ingresada por el usuario.\n",
        "5.Aplicar la formula.\n",
        "6.Imprimir el resultado."
      ],
      "metadata": {
        "id": "oL0ihhVvk4bE"
      }
    },
    {
      "cell_type": "code",
      "source": [
        "# temp_celsius = 0.0  #Creación de la variable\n",
        "\n",
        "# print(\"Hola, este programa convierte grados celsius a grados Fahrenheit\") #Avisamos el objetivo del programa\n",
        "\n",
        "dato_usuario = input(\"Ingrese los grados en celsius en números: \") #Solicitamos al usuario los grados en celsius\n",
        "\n",
        "temp_celsius = float(dato_usuario) #Validación de la información\n",
        "\n",
        "grados_Fahrenheit = (temp_celsius * 9/5) + 32 #Aplicamos la formula de conversión de grados\n",
        "\n",
        "print('Los grados Fahrenheit son: ', grados_Fahrenheit) #Imprimimos el resultado"
      ],
      "metadata": {
        "colab": {
          "base_uri": "https://localhost:8080/"
        },
        "id": "y-eRU1XBlXp5",
        "outputId": "00b8396b-88e1-4d51-c1d3-1949b1511164"
      },
      "execution_count": 12,
      "outputs": [
        {
          "output_type": "stream",
          "name": "stdout",
          "text": [
            "Ingrese los grados en celsius en números: 40\n",
            "Los grados Fahrenheit son:  104.0\n"
          ]
        }
      ]
    },
    {
      "cell_type": "markdown",
      "source": [
        "1.Solicitar al usuario que ingrese una cadena de texto.\n",
        "2.Inicializar una variable contador en 0 para almacenar la cantidad de vocales.\n",
        "3.Recorrer cada carácter de la cadena de texto usando un bucle for.\n",
        "4.Si el carácter actual es una vocal (a, e, i, o, u), incrementar el contador en 1.\n",
        "5.Mostrar el valor final del contador, que representa la cantidad de vocales en la cadena de texto.\n"
      ],
      "metadata": {
        "id": "cQR3OtAUln75"
      }
    },
    {
      "cell_type": "code",
      "source": [
        "texto = input(\"Ingrese una cadena de texto: \")\n",
        "contador = 0\n",
        "vocales = \"aeiouAEIOU\"\n",
        "\n",
        "for caracter in texto:\n",
        "  if caracter in vocales:\n",
        "    contador += 1\n",
        "\n",
        "print(\"La cantidad de vocales en la cadena de texto es:\", contador)\n"
      ],
      "metadata": {
        "colab": {
          "base_uri": "https://localhost:8080/"
        },
        "id": "ZCw2sQlmmlad",
        "outputId": "deff0453-e15b-465d-d834-022ad02cc8fa"
      },
      "execution_count": 13,
      "outputs": [
        {
          "output_type": "stream",
          "name": "stdout",
          "text": [
            "Ingrese una cadena de texto: hola como estas\n",
            "La cantidad de vocales en la cadena de texto es: 6\n"
          ]
        }
      ]
    },
    {
      "cell_type": "markdown",
      "source": [
        "1.Solicitar al usuario que ingrese un número entero positivo.\n",
        "2.Inicializar una variable factorial en 1.\n",
        "3.Inicializar una variable contador con el valor del número ingresado.\n",
        "4.Mientras contador sea mayor que 0:\n",
        "Multiplicar factorial por contador.\n",
        "Decrementar contador en 1.\n",
        "5.Mostrar el valor final de factorial, que representa el factorial del número ingresado."
      ],
      "metadata": {
        "id": "gC6TEPiUmwL_"
      }
    },
    {
      "cell_type": "code",
      "source": [
        "numero = int(input(\"Ingrese un número entero positivo: \"))\n",
        "factorial = 1\n",
        "contador = numero\n",
        "\n",
        "while contador > 0:\n",
        "  factorial *= contador\n",
        "  contador -= 1\n",
        "\n",
        "print(\"El factorial de\", numero, \"es:\", factorial)"
      ],
      "metadata": {
        "colab": {
          "base_uri": "https://localhost:8080/"
        },
        "id": "HxowHV43m4U5",
        "outputId": "2acba915-8e61-4147-b0e4-a1160f3bc8e8"
      },
      "execution_count": 14,
      "outputs": [
        {
          "output_type": "stream",
          "name": "stdout",
          "text": [
            "Ingrese un número entero positivo: 90\n",
            "El factorial de 90 es: 1485715964481761497309522733620825737885569961284688766942216863704985393094065876545992131370884059645617234469978112000000000000000000000\n"
          ]
        }
      ]
    }
  ]
}